{
 "cells": [
  {
   "cell_type": "code",
   "execution_count": 10,
   "id": "306cc1ac",
   "metadata": {},
   "outputs": [],
   "source": [
    "s1 = \"?name=Bob&age=99&day=Wed\"\n",
    "s2 = \"?name=Adam&age=34&day=Tue\"\n",
    "# [('name', 'Bob'), ('age', 99), ('day', 'Wed')"
   ]
  },
  {
   "cell_type": "code",
   "execution_count": 12,
   "id": "8af1d740",
   "metadata": {},
   "outputs": [
    {
     "data": {
      "text/plain": [
       "'deW=yad&99=ega&boB=eman?'"
      ]
     },
     "execution_count": 12,
     "metadata": {},
     "output_type": "execute_result"
    }
   ],
   "source": [
    "s1[::-1]"
   ]
  },
  {
   "cell_type": "code",
   "execution_count": 24,
   "id": "fca95d30",
   "metadata": {},
   "outputs": [],
   "source": [
    "def string_tranformation(s):\n",
    "    s_prime = s.split(\"&\")\n",
    "    for item in s_list:\n",
    "        item = item.split(\"=\")\n",
    "        print(item)"
   ]
  },
  {
   "cell_type": "code",
   "execution_count": 26,
   "id": "7dada95f",
   "metadata": {},
   "outputs": [
    {
     "name": "stdout",
     "output_type": "stream",
     "text": [
      "['?name', 'Bob']\n",
      "['age', '99']\n",
      "['day', 'Wed']\n",
      "['?name', 'Bob']\n",
      "['age', '99']\n",
      "['day', 'Wed']\n"
     ]
    }
   ],
   "source": [
    "string_tranformation(s1)\n",
    "string_tranformation(s2)"
   ]
  },
  {
   "cell_type": "code",
   "execution_count": null,
   "id": "79a01809",
   "metadata": {},
   "outputs": [
    {
     "name": "stdout",
     "output_type": "stream",
     "text": [
      "['?name=Bob', 'age=99', 'day=Wed']\n",
      "['?name', 'Bob']\n",
      "['age', '99']\n",
      "['day', 'Wed']\n"
     ]
    }
   ],
   "source": [
    "s1 = s1.split(\"&\")\n",
    "print(s_list)\n",
    "for item in s_list:\n",
    "    item = item.split(\"=\")\n",
    "    print(item)\n",
    "# do more preocessing \n",
    "\n",
    "\n",
    "s2 = s2.split(\"&\")\n",
    "print(s_list)\n",
    "for item in s_list:\n",
    "    item = item.split(\"=\")\n",
    "    print(item)"
   ]
  },
  {
   "cell_type": "code",
   "execution_count": null,
   "id": "d3847b33",
   "metadata": {},
   "outputs": [
    {
     "name": "stdout",
     "output_type": "stream",
     "text": [
      "29\n",
      "?N12341AME=BOB&AGE=99&DAY=WED\n",
      "?n12341ame=bob&age=99&day=wed\n",
      "['?n12341ame', 'Bob&age', '99&day', 'Wed']\n"
     ]
    }
   ],
   "source": [
    "s = \"?name=Bob&age=99&day=Wed\"\n",
    "print(len(s))\n",
    "print(s.upper())\n",
    "print(s.lower())\n",
    "print(s.split(\"=\"))"
   ]
  },
  {
   "cell_type": "code",
   "execution_count": 20,
   "id": "c1a5bf3f",
   "metadata": {},
   "outputs": [],
   "source": [
    "s = s.upper()"
   ]
  },
  {
   "cell_type": "code",
   "execution_count": 21,
   "id": "a547e691",
   "metadata": {},
   "outputs": [
    {
     "name": "stdout",
     "output_type": "stream",
     "text": [
      "?N12341AME=BOB&AGE=99&DAY=WED\n",
      "?N12341Ame=Bob&Age=99&Day=Wed\n"
     ]
    }
   ],
   "source": [
    "print(s)\n",
    "print(s.title())"
   ]
  },
  {
   "cell_type": "code",
   "execution_count": null,
   "id": "7e009f65",
   "metadata": {},
   "outputs": [
    {
     "ename": "SyntaxError",
     "evalue": "incomplete input (4043011333.py, line 18)",
     "output_type": "error",
     "traceback": [
      "\u001b[0;36m  Cell \u001b[0;32mIn[27], line 18\u001b[0;36m\u001b[0m\n\u001b[0;31m    def func3(x,y,z):\u001b[0m\n\u001b[0m                     ^\u001b[0m\n\u001b[0;31mSyntaxError\u001b[0m\u001b[0;31m:\u001b[0m incomplete input\n"
     ]
    }
   ],
   "source": [
    "\"\"\"python \n",
    "operator: for, if, +, -, def\n",
    "variables:, x, y, s \n",
    "values: 81, \"adshjfla\", []\n",
    "expression is formed by a combination of these elements under the right order/syntax\n",
    "\n",
    "def func(x, y):\n",
    "    // do things here\n",
    "\"\"\"\n",
    "# scope\n",
    "\n",
    "def func1(x, y):\n",
    "    pass\n",
    "\n",
    "def func2(x, y, z):\n",
    "    pass\n",
    "\n",
    "def func3(x, y, z):\n",
    "    return func1(x,y) + func2(x,y,z)\n",
    "\n",
    "x = 1\n",
    "y = 2\n",
    "z = 3\n",
    "\n",
    "print(func3(x, y, z))\n"
   ]
  },
  {
   "cell_type": "code",
   "execution_count": 1,
   "id": "b8f01ace",
   "metadata": {},
   "outputs": [
    {
     "name": "stdout",
     "output_type": "stream",
     "text": [
      "hellow world\n"
     ]
    }
   ],
   "source": [
    "x = print(\"hellow world\")"
   ]
  },
  {
   "cell_type": "code",
   "execution_count": null,
   "id": "515b1246",
   "metadata": {},
   "outputs": [
    {
     "data": {
      "text/plain": [
       "True"
      ]
     },
     "execution_count": 3,
     "metadata": {},
     "output_type": "execute_result"
    }
   ],
   "source": [
    "x is None"
   ]
  },
  {
   "cell_type": "code",
   "execution_count": null,
   "id": "d4716e2a",
   "metadata": {},
   "outputs": [
    {
     "data": {
      "text/plain": [
       "1234"
      ]
     },
     "execution_count": 4,
     "metadata": {},
     "output_type": "execute_result"
    }
   ],
   "source": [
    "def non_returning_function():\n",
    "    print(x + y)\n",
    "def function_test():\n",
    "    return 1234\n",
    "x = function_test()\n",
    "x"
   ]
  },
  {
   "cell_type": "code",
   "execution_count": 22,
   "id": "4d8941c5",
   "metadata": {},
   "outputs": [],
   "source": [
    "lst = [1,3,2,4]\n",
    "lst.sort(reverse=False)"
   ]
  },
  {
   "cell_type": "code",
   "execution_count": null,
   "id": "63b91ea9",
   "metadata": {},
   "outputs": [],
   "source": [
    "# lst.reverse()"
   ]
  },
  {
   "cell_type": "code",
   "execution_count": 23,
   "id": "c4bfe0ec",
   "metadata": {},
   "outputs": [
    {
     "name": "stdout",
     "output_type": "stream",
     "text": [
      "[1, 2, 3, 4]\n"
     ]
    }
   ],
   "source": [
    "print(lst)"
   ]
  },
  {
   "cell_type": "code",
   "execution_count": 28,
   "id": "22787a3b",
   "metadata": {},
   "outputs": [],
   "source": [
    "from operator import itemgetter\n",
    "lst = [(\"name\", 3), (\"age\", 22), (\"randomthing\", 44)]\n",
    "lst.sort(key=itemgetter(1))"
   ]
  },
  {
   "cell_type": "code",
   "execution_count": 29,
   "id": "521d755a",
   "metadata": {},
   "outputs": [
    {
     "data": {
      "text/plain": [
       "[('name', 3), ('age', 22), ('randomthing', 44)]"
      ]
     },
     "execution_count": 29,
     "metadata": {},
     "output_type": "execute_result"
    }
   ],
   "source": [
    "lst"
   ]
  },
  {
   "cell_type": "code",
   "execution_count": 34,
   "id": "502fe195",
   "metadata": {},
   "outputs": [
    {
     "data": {
      "text/plain": [
       "[['Adam', 6], ['Bob', 6], ['Derek', 7], ['Carrie', 8], ['Aaron', 9]]"
      ]
     },
     "execution_count": 34,
     "metadata": {},
     "output_type": "execute_result"
    }
   ],
   "source": [
    "data = [['Derek', 7], ['Carrie', 8], ['Bob', 6],['Adam', 6], ['Aaron', 9]]\n",
    "data.sort(key=itemgetter(1, 0))\n",
    "data"
   ]
  },
  {
   "cell_type": "code",
   "execution_count": 35,
   "id": "329d2093",
   "metadata": {},
   "outputs": [
    {
     "data": {
      "text/plain": [
       "{1, 2, 3, 4}"
      ]
     },
     "execution_count": 35,
     "metadata": {},
     "output_type": "execute_result"
    }
   ],
   "source": [
    "set([1,2,2,3,4])"
   ]
  },
  {
   "cell_type": "code",
   "execution_count": 36,
   "id": "b5e48bc1",
   "metadata": {},
   "outputs": [
    {
     "name": "stdout",
     "output_type": "stream",
     "text": [
      "[2, 2, 3, 4]\n"
     ]
    }
   ],
   "source": [
    "lst = [1,2,3,4]\n",
    "def increment_first_elemetn(lst):\n",
    "    lst[0] += 1\n",
    "increment_first_elemetn(lst)\n",
    "print(lst)"
   ]
  },
  {
   "cell_type": "code",
   "execution_count": null,
   "id": "c4ba15de",
   "metadata": {},
   "outputs": [
    {
     "name": "stdout",
     "output_type": "stream",
     "text": [
      "2\n"
     ]
    }
   ],
   "source": [
    "tup = (1,2,3,4)\n",
    "lst = [1,2,3,4]\n",
    "print(tup[1])\n"
   ]
  }
 ],
 "metadata": {
  "kernelspec": {
   "display_name": "Python 3",
   "language": "python",
   "name": "python3"
  },
  "language_info": {
   "codemirror_mode": {
    "name": "ipython",
    "version": 3
   },
   "file_extension": ".py",
   "mimetype": "text/x-python",
   "name": "python",
   "nbconvert_exporter": "python",
   "pygments_lexer": "ipython3",
   "version": "3.11.4"
  }
 },
 "nbformat": 4,
 "nbformat_minor": 5
}
