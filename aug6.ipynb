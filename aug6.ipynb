{
 "cells": [
  {
   "cell_type": "markdown",
   "id": "a4273c3e",
   "metadata": {},
   "source": [
    "Functions "
   ]
  },
  {
   "cell_type": "code",
   "execution_count": 81,
   "id": "1da718e8",
   "metadata": {},
   "outputs": [],
   "source": [
    "def add(a, b):\n",
    "    return a + b\n",
    "\n",
    "def main():\n",
    "    print(\"hello world\")\n",
    "\n",
    "# recursion \n",
    "# factorial is 2! = 1 x 2, 3! = 1 x 2 x 3, 4! = 1 x 2 x 3 x 4\n",
    "def factorial(n):\n",
    "    if n == 0:\n",
    "        return 1\n",
    "    return n * factorial(n-1)"
   ]
  },
  {
   "cell_type": "code",
   "execution_count": 82,
   "id": "79ad7570",
   "metadata": {},
   "outputs": [
    {
     "data": {
      "text/plain": [
       "1"
      ]
     },
     "execution_count": 82,
     "metadata": {},
     "output_type": "execute_result"
    }
   ],
   "source": [
    "factorial(1)"
   ]
  },
  {
   "cell_type": "code",
   "execution_count": 83,
   "id": "6f206f8f",
   "metadata": {},
   "outputs": [
    {
     "data": {
      "text/plain": [
       "3628800"
      ]
     },
     "execution_count": 83,
     "metadata": {},
     "output_type": "execute_result"
    }
   ],
   "source": [
    "factorial(10) # 10 * factorial(9) = 10 * 9 * factorial(8) = .... = 10 * 9 * 8 * 7 * 6 * 5 * 4 * 3 * 2 * 1"
   ]
  },
  {
   "cell_type": "markdown",
   "id": "064dc00b",
   "metadata": {},
   "source": [
    "a function is a stack in the lower implementation\n",
    "\n",
    "what is a stack?"
   ]
  },
  {
   "cell_type": "markdown",
   "id": "74b0c213",
   "metadata": {},
   "source": [
    "Classes"
   ]
  },
  {
   "cell_type": "code",
   "execution_count": 84,
   "id": "a7b243b6",
   "metadata": {},
   "outputs": [],
   "source": [
    "class Milk():\n",
    "    def __init__(self, milk_type=None, price=None):\n",
    "        self.milk_type = milk_type\n",
    "        self.price = price\n",
    "\n",
    "    def __str__(self):\n",
    "        return \"milk\"\n",
    "    \n",
    "    def get_price(self):\n",
    "        return self.price\n",
    "\n",
    "class Cow(Milk):\n",
    "    def __init__(self):\n",
    "        super().__init__(\"Cow\", 2)\n",
    "\n",
    "    def __str__(self):\n",
    "        return \"cow \" + super().__str__()\n",
    "\n",
    "    def is_animal_produced(self):\n",
    "        return True\n",
    "\n",
    "class Almond(Milk):\n",
    "    def __init__(self):\n",
    "        super().__init__(\"Almond\", 3)\n",
    "\n",
    "    def __str__(self):\n",
    "        return \"almond \" + super().__str__()\n",
    "\n",
    "    def is_animal_produced(self):\n",
    "        return False\n"
   ]
  },
  {
   "cell_type": "code",
   "execution_count": 85,
   "id": "14173af9",
   "metadata": {},
   "outputs": [
    {
     "name": "stdout",
     "output_type": "stream",
     "text": [
      "milk\n"
     ]
    }
   ],
   "source": [
    "Milk_milk = Milk()\n",
    "print(Milk_milk)\n",
    "# print(Milk.is_animal_produced())"
   ]
  },
  {
   "cell_type": "code",
   "execution_count": 86,
   "id": "2449bdd3",
   "metadata": {},
   "outputs": [
    {
     "name": "stdout",
     "output_type": "stream",
     "text": [
      "cow milk\n",
      "True\n"
     ]
    }
   ],
   "source": [
    "Cow_milk = Cow()\n",
    "print(Cow_milk)\n",
    "print(Cow_milk.is_animal_produced())"
   ]
  },
  {
   "cell_type": "code",
   "execution_count": 87,
   "id": "07801bd2",
   "metadata": {},
   "outputs": [
    {
     "name": "stdout",
     "output_type": "stream",
     "text": [
      "almond milk\n",
      "False\n"
     ]
    }
   ],
   "source": [
    "Almond_almond = Almond()\n",
    "print(Almond_almond)\n",
    "print(Almond_almond.is_animal_produced())"
   ]
  },
  {
   "cell_type": "code",
   "execution_count": 88,
   "id": "fc256336",
   "metadata": {},
   "outputs": [],
   "source": [
    "class Coffee():\n",
    "    def __init__(self, iced: bool, sugared: bool, milk_type:Milk): # constructor\n",
    "        self.iced = iced\n",
    "        self.sugared = sugared\n",
    "        self.milk_type = milk_type\n",
    "        self._base_price = 2.0\n",
    "\n",
    "    def __str__(self): # string representation\n",
    "        return (f\"{'Iced' if self.iced else 'Hot'} \"\n",
    "                f\"{'with sugar' if self.sugared else 'without sugar'} \"\n",
    "                f\"{'and ' + str(self.milk_type) if self.milk_type else 'no milk'}\")\n",
    "\n",
    "    def set_price(self): # extension to constructor\n",
    "        self.price = self._base_price\n",
    "        if self.iced:\n",
    "            self.price += 0.5\n",
    "        if self.sugared:\n",
    "            self.price += 0.2\n",
    "        if self.milk_type:\n",
    "            self.price += self.milk_type.get_price()\n",
    "\n",
    "    def get_price(self): # querying \n",
    "        return self.price"
   ]
  },
  {
   "cell_type": "code",
   "execution_count": 89,
   "id": "6473cd04",
   "metadata": {},
   "outputs": [
    {
     "name": "stdout",
     "output_type": "stream",
     "text": [
      "Iced without sugar and almond milk\n"
     ]
    }
   ],
   "source": [
    "Coffee1 = Coffee(iced=True, sugared=False, milk_type=Almond())\n",
    "Coffee1.set_price()\n",
    "Coffee1.get_price()\n",
    "print(Coffee1)"
   ]
  },
  {
   "cell_type": "markdown",
   "id": "27f2b686",
   "metadata": {},
   "source": [
    "Assignment 1 & 2 mock code"
   ]
  },
  {
   "cell_type": "code",
   "execution_count": 90,
   "id": "b2c0d544",
   "metadata": {},
   "outputs": [],
   "source": [
    "class Movies:\n",
    "    def __init__(self, title: str, director: str, year: int, length: int = 0):\n",
    "        self.title = title\n",
    "        self.director = director\n",
    "        self.year = year\n",
    "        self.length = length\n",
    "\n",
    "    def __str__(self):\n",
    "        return f\"{self.title} ({self.year}), directed by {self.director}, {self.length} minutes long\"\n",
    "    \n",
    "class Horror(Movies):\n",
    "    def __init__(self, title: str, director: str, year: int, length: int = 0):\n",
    "        super().__init__(title, director, year, length)\n",
    "        self.genre = \"Horror\"\n",
    "\n",
    "    def __str__(self):\n",
    "        return f\"{self.genre} - {super().__str__()}\"\n",
    "\n",
    "class Drama(Movies):\n",
    "    def __init__(self, title: str, director: str, year: int, length: int = 0):\n",
    "        super().__init__(title, director, year, length)\n",
    "        self.genre = \"Drama\"\n",
    "\n",
    "    def __str__(self):\n",
    "        return f\"{self.genre} - {super().__str__()}\""
   ]
  },
  {
   "cell_type": "code",
   "execution_count": 91,
   "id": "aa705cea",
   "metadata": {},
   "outputs": [
    {
     "name": "stdout",
     "output_type": "stream",
     "text": [
      "Horror - The Shining (1980), directed by Stanley Kubrick, 146 minutes long\n",
      "Drama - The Shawshank Redemption (1994), directed by Frank Darabont, 142 minutes long\n"
     ]
    }
   ],
   "source": [
    "Horror_movie = Horror(\"The Shining\", \"Stanley Kubrick\", 1980, 146)\n",
    "Drama_movie = Drama(\"The Shawshank Redemption\", \"Frank Darabont\", 1994, 142)    \n",
    "print(Horror_movie)\n",
    "print(Drama_movie)"
   ]
  },
  {
   "cell_type": "markdown",
   "id": "b1a8bd18",
   "metadata": {},
   "source": [
    "Scope"
   ]
  },
  {
   "cell_type": "code",
   "execution_count": 95,
   "id": "f4ecdab4",
   "metadata": {},
   "outputs": [],
   "source": [
    "def outer():\n",
    "    x = 10  # x is in the enclosing scope for inner()\n",
    "    def inner():\n",
    "        print(x) \n",
    "        y = 11 # inner() can access x from outer()\n",
    "    print(y)\n",
    "    inner()"
   ]
  },
  {
   "cell_type": "code",
   "execution_count": 96,
   "id": "d2150b87",
   "metadata": {},
   "outputs": [
    {
     "ename": "NameError",
     "evalue": "name 'y' is not defined",
     "output_type": "error",
     "traceback": [
      "\u001b[1;31m---------------------------------------------------------------------------\u001b[0m",
      "\u001b[1;31mNameError\u001b[0m                                 Traceback (most recent call last)",
      "Cell \u001b[1;32mIn[96], line 1\u001b[0m\n\u001b[1;32m----> 1\u001b[0m \u001b[43mouter\u001b[49m\u001b[43m(\u001b[49m\u001b[43m)\u001b[49m\n",
      "Cell \u001b[1;32mIn[95], line 6\u001b[0m, in \u001b[0;36mouter\u001b[1;34m()\u001b[0m\n\u001b[0;32m      4\u001b[0m     \u001b[38;5;28mprint\u001b[39m(x) \n\u001b[0;32m      5\u001b[0m     y \u001b[38;5;241m=\u001b[39m \u001b[38;5;241m11\u001b[39m \u001b[38;5;66;03m# inner() can access x from outer()\u001b[39;00m\n\u001b[1;32m----> 6\u001b[0m \u001b[38;5;28mprint\u001b[39m(\u001b[43my\u001b[49m)\n\u001b[0;32m      7\u001b[0m inner()\n",
      "\u001b[1;31mNameError\u001b[0m: name 'y' is not defined"
     ]
    }
   ],
   "source": [
    "outer()"
   ]
  },
  {
   "cell_type": "markdown",
   "id": "de301e0a",
   "metadata": {},
   "source": [
    "Version Control: Git"
   ]
  },
  {
   "cell_type": "markdown",
   "id": "40f23948",
   "metadata": {},
   "source": [
    "What is a repository: a tracker/snapshot of the versions in development\n",
    "\n",
    "Local/Offline level\n",
    "\n",
    "\n",
    "create git repository: git init \n",
    "\n",
    "stage the changes: git add . \n",
    "\n",
    "submit the changes: git commit \n",
    "\n",
    "Remote/Online level: \n",
    "\n",
    "to create remote for the first time: git remote add origin https://github.com/your-username/your-repo.git\n",
    "\n",
    "git push -u origin master/main (depends on how you named the main branch)\n",
    "\n",
    "git pull: retreive changes from the remote repository to local repository "
   ]
  },
  {
   "cell_type": "markdown",
   "id": "f96ed244",
   "metadata": {},
   "source": [
    "### Git Branches (Local Level)\n",
    "- A branch in Git is a lightweight movable pointer to a commit. It allows you to work on different features or fixes independently.\n",
    "- By default, every repository has a branch called `main` (or `master`).\n",
    "- You can create new branches to develop features, experiment, or fix bugs without affecting the main codebase.\n",
    "- Local branches exist only on your computer until you push them to a remote repository.\n",
    "\n",
    "**Common local branch commands:**\n",
    "- `git branch` — List all local branches.\n",
    "- `git branch branch_name` — Create a new branch called `branch_name`.\n",
    "- `git checkout branch_name` — Switch to the branch called `branch_name`.\n",
    "- `git switch branch_name` — Also used to switch branches (newer command).\n",
    "- `git merge branch_name` — Merge changes from `branch_name` into your current branch.\n",
    "- `git branch -d branch_name` — Delete a local branch.\n",
    "\n",
    "Branches help you keep your work organized and make it easier to collaborate with others."
   ]
  },
  {
   "cell_type": "markdown",
   "id": "bead96a4",
   "metadata": {},
   "source": [
    "Local Repository: \n",
    "Remote Reppository"
   ]
  },
  {
   "cell_type": "markdown",
   "id": "9ae3deca",
   "metadata": {},
   "source": [
    "delete branches upstream/remote git push origin --delete new_branch\n",
    "\n",
    "delete local branches: git branch -d new_branch\n",
    "\n",
    "do both to kill a branch "
   ]
  },
  {
   "cell_type": "code",
   "execution_count": null,
   "id": "76c24784",
   "metadata": {},
   "outputs": [],
   "source": [
    "# new branch demonstration"
   ]
  }
 ],
 "metadata": {
  "kernelspec": {
   "display_name": "base",
   "language": "python",
   "name": "python3"
  },
  "language_info": {
   "codemirror_mode": {
    "name": "ipython",
    "version": 3
   },
   "file_extension": ".py",
   "mimetype": "text/x-python",
   "name": "python",
   "nbconvert_exporter": "python",
   "pygments_lexer": "ipython3",
   "version": "3.9.17"
  }
 },
 "nbformat": 4,
 "nbformat_minor": 5
}
