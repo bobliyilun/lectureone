{
 "cells": [
  {
   "cell_type": "markdown",
   "id": "c2b478c8",
   "metadata": {},
   "source": [
    "Q1 Explain the naming rules:\n",
    "\n",
    "Class Name:  First letter uppercased and the rest lowercased, if there two or more words, use Cap Words. No underline (\"_\") AlmondMilk, CowMilk\n",
    "\n",
    "File Name: should be kept the same as the class/module name inside the file, but lowercased\n",
    "almond_milk, cow_milk\n",
    "\n",
    "Functions that only return True or False:\n",
    "is_something_true, \n",
    "\n",
    "Constants:\n",
    "MAX_INTEGER, MAX_ITERATION\n",
    "\n",
    "LISTS: plural form of the object/names in the list. e.g. students, cows, men, women\n",
    "\n",
    "Function:\n",
    "you with a verb that describe the action, with the object attached. \n",
    "get_milk(), get_name, set_name(), count_students() . "
   ]
  },
  {
   "cell_type": "markdown",
   "id": "3e735405",
   "metadata": {},
   "source": [
    "Q2 \n",
    "Git controls:\n",
    "\n",
    "Commit: publish the staged changed to the local repository\n",
    "\n",
    "Repository: container that has the currenly files in the working tree along with the snap shot of their historical versions. \n",
    "\n",
    "Pull: Fetch the changes from the remote repository and apply to the local repository \n",
    "\n",
    "\n",
    "Push: push the local changes to the remote repository \n",
    "\n",
    "Branch: default for git is the master branch or main branch, any other branches would be divergent from the main branch. This design is meant to preserve the integrity of the main branch while encapsulating changes in other branches. \n",
    "A branch in Git is a separate line of development. It lets you work on features or fixes independently from the main codebase, so changes can be made and tested without affecting the main branch until merged."
   ]
  },
  {
   "cell_type": "markdown",
   "id": "dc406c0c",
   "metadata": {},
   "source": [
    "Q3: \n",
    "Lists: a sequence of elements (i.e. objects in python) with order enforced\n",
    "\n",
    "Set: a collection of unique objects that is orderless\n",
    "\n",
    "Dictionary: a collection of key-value pairs\n",
    "\n",
    "Tuples: similar to list but immutable. any changes made means creating a new tuple"
   ]
  },
  {
   "cell_type": "markdown",
   "id": "f1b0460f",
   "metadata": {},
   "source": [
    "Q4 & Q5\n",
    "\n",
    "Inheritance: Human is Mammal/Vertebrate/Animal\n",
    "Not inheritance: Human is not plant "
   ]
  },
  {
   "cell_type": "markdown",
   "id": "28397584",
   "metadata": {},
   "source": [
    "Q6:\n",
    "Infinite Loop: a loop that does not stop\n",
    "the loop condition never fails \n",
    "\n",
    "Example: \n",
    "\n",
    "while True:\n",
    "\n",
    "    print(\"something\")"
   ]
  },
  {
   "cell_type": "code",
   "execution_count": null,
   "id": "a4a602e9",
   "metadata": {},
   "outputs": [],
   "source": [
    "while True:\n",
    "    print(\"something\")"
   ]
  },
  {
   "cell_type": "markdown",
   "id": "9ac27811",
   "metadata": {},
   "source": []
  },
  {
   "cell_type": "code",
   "execution_count": null,
   "id": "1f93ac2d",
   "metadata": {},
   "outputs": [
    {
     "name": "stdout",
     "output_type": "stream",
     "text": [
      "7 8 10 13 17 22 28 "
     ]
    }
   ],
   "source": [
    "#Q7\n",
    "x = 7\n",
    "for i in range(x):\n",
    "    x = x + i\n",
    "    print(x, end=' ')\n",
    "    # defualt end is newline, so this will print each value on a new line\n",
    "    # if you want to print on the same line, you can use end=' ' in the print function"
   ]
  },
  {
   "cell_type": "code",
   "execution_count": 6,
   "id": "62e62649",
   "metadata": {},
   "outputs": [
    {
     "name": "stdout",
     "output_type": "stream",
     "text": [
      "['This', 'string', 'has', 'words', 'in', 'it']\n",
      "T\n",
      "s\n",
      "h\n",
      "w\n",
      "i\n",
      "i\n"
     ]
    }
   ],
   "source": [
    "#Q8 \n",
    "\n",
    "s = \"This string has words in it\"\n",
    "words = s.split()\n",
    "print(words)\n",
    "for i, word in enumerate(words):\n",
    "    print(word[0])"
   ]
  },
  {
   "cell_type": "markdown",
   "id": "b324ac7e",
   "metadata": {},
   "source": [
    "Q9"
   ]
  },
  {
   "cell_type": "code",
   "execution_count": 7,
   "id": "be78299b",
   "metadata": {},
   "outputs": [
    {
     "name": "stdout",
     "output_type": "stream",
     "text": [
      "9 144\n"
     ]
    }
   ],
   "source": [
    "class Arbitrary(object): \n",
    "    def __init__(self, data=1): \n",
    "        self.data = data \n",
    "    def getit(self): \n",
    "        return self.data * 3 \n",
    "    \n",
    "class Thing(Arbitrary): \n",
    "    def __init__(self, value=6): \n",
    "        super().__init__(value * 8) \n",
    "        \n",
    "a, b = Arbitrary(3), Thing() \n",
    "print(a.getit(), b.getit())"
   ]
  },
  {
   "cell_type": "markdown",
   "id": "24a74109",
   "metadata": {},
   "source": [
    "Q10 Important!!!"
   ]
  },
  {
   "cell_type": "code",
   "execution_count": 9,
   "id": "c8d203ae",
   "metadata": {},
   "outputs": [
    {
     "name": "stdout",
     "output_type": "stream",
     "text": [
      "True True False\n",
      "[100, 10, 3, 25, 80] [100, 10, 3, 25, 80] [4, 10, 3, 25, 80]\n"
     ]
    }
   ],
   "source": [
    "numbers = [4, 10, 3, 25, 80]\n",
    "new_numbers = numbers\n",
    "c = numbers[:]\n",
    "print(numbers==c, numbers is new_numbers, numbers is c)\n",
    "# == checks for value equality, is checks for identity (same object in memory)\n",
    "# new_numbers is a reference to the same list as numbers, c is a copy of numbers\n",
    "# so new_numbers and numbers are the same object, while c is a different object with the same values\n",
    "# if you modify new_numbers, it will also modify numbers, but modifying c will not affect numbers or new_numbers\n",
    "new_numbers[0] = 100\n",
    "print(numbers, new_numbers, c)  # numbers and new_numbers are affected, c is unchanged"
   ]
  },
  {
   "cell_type": "code",
   "execution_count": 10,
   "id": "3b41ac4c",
   "metadata": {},
   "outputs": [
    {
     "name": "stdout",
     "output_type": "stream",
     "text": [
      "HiHiHiHiHi\n"
     ]
    }
   ],
   "source": [
    "# Q11\n",
    "def a(string, number):\n",
    "    return string * number\n",
    "print(a(\"Hi\", 5))  # prints \"hellohellohello\""
   ]
  },
  {
   "cell_type": "markdown",
   "id": "2f248f98",
   "metadata": {},
   "source": [
    "Q12"
   ]
  },
  {
   "cell_type": "code",
   "execution_count": 11,
   "id": "22902551",
   "metadata": {},
   "outputs": [
    {
     "ename": "ZeroDivisionError",
     "evalue": "division by zero",
     "output_type": "error",
     "traceback": [
      "\u001b[0;31m---------------------------------------------------------------------------\u001b[0m",
      "\u001b[0;31mZeroDivisionError\u001b[0m                         Traceback (most recent call last)",
      "Cell \u001b[0;32mIn[11], line 1\u001b[0m\n\u001b[0;32m----> 1\u001b[0m \u001b[38;5;28mprint\u001b[39m(\u001b[38;5;241;43m1\u001b[39;49m\u001b[38;5;241;43m/\u001b[39;49m\u001b[38;5;241;43m0\u001b[39;49m)\n",
      "\u001b[0;31mZeroDivisionError\u001b[0m: division by zero"
     ]
    }
   ],
   "source": [
    "print(1/0)"
   ]
  },
  {
   "cell_type": "code",
   "execution_count": 17,
   "id": "c6f2e34a",
   "metadata": {},
   "outputs": [
    {
     "ename": "ValueError",
     "evalue": "invalid literal for int() with base 10: 'b'",
     "output_type": "error",
     "traceback": [
      "\u001b[0;31m---------------------------------------------------------------------------\u001b[0m",
      "\u001b[0;31mValueError\u001b[0m                                Traceback (most recent call last)",
      "Cell \u001b[0;32mIn[17], line 2\u001b[0m\n\u001b[1;32m      1\u001b[0m a \u001b[38;5;241m=\u001b[39m \u001b[38;5;124m\"\u001b[39m\u001b[38;5;124mb\u001b[39m\u001b[38;5;124m\"\u001b[39m\n\u001b[0;32m----> 2\u001b[0m \u001b[38;5;28mprint\u001b[39m(\u001b[38;5;28;43mint\u001b[39;49m\u001b[43m(\u001b[49m\u001b[43ma\u001b[49m\u001b[43m)\u001b[49m)\n\u001b[1;32m      3\u001b[0m \u001b[38;5;66;03m# for hexadecimal, you can use int(a, 16) to convert a string to an integer\u001b[39;00m\n\u001b[1;32m      4\u001b[0m \u001b[38;5;66;03m# 0, 1, 2, 3, 4, 5, 6, 7, 8, 9, A, B, C, D, E, F are valid hexadecimal digits\u001b[39;00m\n",
      "\u001b[0;31mValueError\u001b[0m: invalid literal for int() with base 10: 'b'"
     ]
    }
   ],
   "source": [
    "a = \"b\"\n",
    "print(int(a))\n",
    "# for hexadecimal, you can use int(a, 16) to convert a string to an integer\n",
    "# 0, 1, 2, 3, 4, 5, 6, 7, 8, 9, A, B, C, D, E, F are valid hexadecimal digits"
   ]
  },
  {
   "cell_type": "code",
   "execution_count": 19,
   "id": "437f0718",
   "metadata": {},
   "outputs": [
    {
     "ename": "ValueError",
     "evalue": "could not convert string to float: '1.12.3'",
     "output_type": "error",
     "traceback": [
      "\u001b[0;31m---------------------------------------------------------------------------\u001b[0m",
      "\u001b[0;31mValueError\u001b[0m                                Traceback (most recent call last)",
      "Cell \u001b[0;32mIn[19], line 2\u001b[0m\n\u001b[1;32m      1\u001b[0m a \u001b[38;5;241m=\u001b[39m \u001b[38;5;124m\"\u001b[39m\u001b[38;5;124m1.12.3\u001b[39m\u001b[38;5;124m\"\u001b[39m\n\u001b[0;32m----> 2\u001b[0m \u001b[38;5;28mprint\u001b[39m(\u001b[38;5;28;43mfloat\u001b[39;49m\u001b[43m(\u001b[49m\u001b[43ma\u001b[49m\u001b[43m)\u001b[49m)  \u001b[38;5;66;03m# this will raise a ValueError because '1.12.3' is not a valid integer\u001b[39;00m\n",
      "\u001b[0;31mValueError\u001b[0m: could not convert string to float: '1.12.3'"
     ]
    }
   ],
   "source": [
    "a = \"1.12.3\"\n",
    "print(float(a))  # this will raise a ValueError because '1.12.3' is not a valid integer"
   ]
  },
  {
   "cell_type": "code",
   "execution_count": 21,
   "id": "aa59efd9",
   "metadata": {},
   "outputs": [
    {
     "ename": "NameError",
     "evalue": "name 'names' is not defined",
     "output_type": "error",
     "traceback": [
      "\u001b[0;31m---------------------------------------------------------------------------\u001b[0m",
      "\u001b[0;31mNameError\u001b[0m                                 Traceback (most recent call last)",
      "Cell \u001b[0;32mIn[21], line 2\u001b[0m\n\u001b[1;32m      1\u001b[0m name \u001b[38;5;241m=\u001b[39m \u001b[38;5;28minput\u001b[39m(\u001b[38;5;124m\"\u001b[39m\u001b[38;5;124mEnter your name: \u001b[39m\u001b[38;5;124m\"\u001b[39m)\n\u001b[0;32m----> 2\u001b[0m \u001b[38;5;28mprint\u001b[39m(\u001b[43mnames\u001b[49m)\n",
      "\u001b[0;31mNameError\u001b[0m: name 'names' is not defined"
     ]
    }
   ],
   "source": [
    "name = input(\"Enter your name: \")\n",
    "print(names)"
   ]
  },
  {
   "cell_type": "code",
   "execution_count": 22,
   "id": "3bb52a1b",
   "metadata": {},
   "outputs": [
    {
     "ename": "TypeError",
     "evalue": "can only concatenate str (not \"int\") to str",
     "output_type": "error",
     "traceback": [
      "\u001b[0;31m---------------------------------------------------------------------------\u001b[0m",
      "\u001b[0;31mTypeError\u001b[0m                                 Traceback (most recent call last)",
      "Cell \u001b[0;32mIn[22], line 1\u001b[0m\n\u001b[0;32m----> 1\u001b[0m \u001b[38;5;28mprint\u001b[39m(\u001b[38;5;124;43m\"\u001b[39;49m\u001b[38;5;124;43m12\u001b[39;49m\u001b[38;5;124;43m\"\u001b[39;49m\u001b[43m \u001b[49m\u001b[38;5;241;43m+\u001b[39;49m\u001b[43m \u001b[49m\u001b[38;5;241;43m4\u001b[39;49m)\n",
      "\u001b[0;31mTypeError\u001b[0m: can only concatenate str (not \"int\") to str"
     ]
    }
   ],
   "source": [
    "print(\"12\" + 4)"
   ]
  },
  {
   "cell_type": "markdown",
   "id": "865689b1",
   "metadata": {},
   "source": [
    "A **TypeError** occurs when an operation is applied to an object of inappropriate type (e.g., adding a string and an integer).  \n",
    "A **ValueError** occurs when an operation receives an argument of the right type but an inappropriate value (e.g., converting \"abc\" to int)."
   ]
  }
 ],
 "metadata": {
  "kernelspec": {
   "display_name": "Python 3",
   "language": "python",
   "name": "python3"
  },
  "language_info": {
   "codemirror_mode": {
    "name": "ipython",
    "version": 3
   },
   "file_extension": ".py",
   "mimetype": "text/x-python",
   "name": "python",
   "nbconvert_exporter": "python",
   "pygments_lexer": "ipython3",
   "version": "3.11.4"
  }
 },
 "nbformat": 4,
 "nbformat_minor": 5
}
