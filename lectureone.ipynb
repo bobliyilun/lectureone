{
 "cells": [
  {
   "cell_type": "markdown",
   "id": "a4273c3e",
   "metadata": {},
   "source": [
    "Functions "
   ]
  },
  {
   "cell_type": "code",
   "execution_count": 28,
   "id": "1da718e8",
   "metadata": {},
   "outputs": [],
   "source": [
    "def add(a, b):\n",
    "    return a + b\n",
    "\n",
    "def main():\n",
    "    print(\"hello world\")\n",
    "\n",
    "# recursion \n",
    "# factorial is 2! = 1 x 2, 3! = 1 x 2 x 3, 4! = 1 x 2 x 3 x 4\n",
    "def factorial(n):\n",
    "    if n == 0:\n",
    "        return 1\n",
    "    return n * factorial(n-1)"
   ]
  },
  {
   "cell_type": "code",
   "execution_count": 29,
   "id": "79ad7570",
   "metadata": {},
   "outputs": [
    {
     "data": {
      "text/plain": [
       "1"
      ]
     },
     "execution_count": 29,
     "metadata": {},
     "output_type": "execute_result"
    }
   ],
   "source": [
    "factorial(1)"
   ]
  },
  {
   "cell_type": "code",
   "execution_count": 30,
   "id": "6f206f8f",
   "metadata": {},
   "outputs": [
    {
     "data": {
      "text/plain": [
       "3628800"
      ]
     },
     "execution_count": 30,
     "metadata": {},
     "output_type": "execute_result"
    }
   ],
   "source": [
    "factorial(10) # 10 * factorial(9) = 10 * 9 * factorial(8) = .... = 10 * 9 * 8 * 7 * 6 * 5 * 4 * 3 * 2 * 1"
   ]
  },
  {
   "cell_type": "markdown",
   "id": "064dc00b",
   "metadata": {},
   "source": [
    "a function is a stack in the lower implementation\n",
    "\n",
    "what is a stack?"
   ]
  },
  {
   "cell_type": "markdown",
   "id": "74b0c213",
   "metadata": {},
   "source": [
    "Classes"
   ]
  },
  {
   "cell_type": "code",
   "execution_count": 31,
   "id": "a7b243b6",
   "metadata": {},
   "outputs": [],
   "source": [
    "class Milk():\n",
    "    def __init__(self, milk_type=None, price=None):\n",
    "        self.milk_type = milk_type\n",
    "        self.price = price\n",
    "\n",
    "    def __str__(self):\n",
    "        return \"milk\"\n",
    "    \n",
    "    def get_price(self):\n",
    "        return self.price\n",
    "\n",
    "class Cow(Milk):\n",
    "    def __init__(self):\n",
    "        super().__init__(\"Cow\", 2)\n",
    "\n",
    "    def __str__(self):\n",
    "        return \"cow \" + super().__str__()\n",
    "\n",
    "    def is_animal_produced(self):\n",
    "        return True\n",
    "\n",
    "class Almond(Milk):\n",
    "    def __init__(self):\n",
    "        super().__init__(\"Almond\", 3)\n",
    "\n",
    "    def __str__(self):\n",
    "        return \"almond \" + super().__str__()\n",
    "\n",
    "    def is_animal_produced(self):\n",
    "        return False\n"
   ]
  },
  {
   "cell_type": "code",
   "execution_count": 32,
   "id": "14173af9",
   "metadata": {},
   "outputs": [
    {
     "name": "stdout",
     "output_type": "stream",
     "text": [
      "milk\n"
     ]
    }
   ],
   "source": [
    "Milk_milk = Milk()\n",
    "print(Milk_milk)\n",
    "# print(Milk.is_animal_produced())"
   ]
  },
  {
   "cell_type": "code",
   "execution_count": 33,
   "id": "2449bdd3",
   "metadata": {},
   "outputs": [
    {
     "name": "stdout",
     "output_type": "stream",
     "text": [
      "cow milk\n",
      "True\n"
     ]
    }
   ],
   "source": [
    "Cow_milk = Cow()\n",
    "print(Cow_milk)\n",
    "print(Cow_milk.is_animal_produced())"
   ]
  },
  {
   "cell_type": "code",
   "execution_count": 34,
   "id": "07801bd2",
   "metadata": {},
   "outputs": [
    {
     "name": "stdout",
     "output_type": "stream",
     "text": [
      "almond milk\n",
      "False\n"
     ]
    }
   ],
   "source": [
    "Almond_almond = Almond()\n",
    "print(Almond_almond)\n",
    "print(Almond_almond.is_animal_produced())"
   ]
  },
  {
   "cell_type": "code",
   "execution_count": 35,
   "id": "fc256336",
   "metadata": {},
   "outputs": [],
   "source": [
    "class Coffee():\n",
    "    def __init__(self, iced: bool, sugared: bool, milk_type:Milk): # constructor\n",
    "        self.iced = iced\n",
    "        self.sugared = sugared\n",
    "        self.milk_type = milk_type\n",
    "        self._employee = 1\n",
    "\n",
    "    def __str__(self): # string representation\n",
    "        return (f\"{'Iced' if self.iced else 'Hot'} \"\n",
    "                f\"{'with sugar' if self.sugared else 'without sugar'} \"\n",
    "                f\"{'and ' + self.milk_type + ' milk' if self.milk_type else 'no milk'}\")\n",
    "\n",
    "    def set_price(self): # extension to constructor\n",
    "        price = 2.0\n",
    "        if self.iced:\n",
    "            price += 0.5\n",
    "        if self.sugared:\n",
    "            price += 0.2\n",
    "        if self.milk_type:\n",
    "            price += 0.3\n",
    "        self.price = price\n",
    "\n",
    "    def get_price(self): # querying \n",
    "        return self.price"
   ]
  },
  {
   "cell_type": "code",
   "execution_count": 36,
   "id": "6473cd04",
   "metadata": {},
   "outputs": [
    {
     "name": "stdout",
     "output_type": "stream",
     "text": [
      "Iced without sugar and almond milk\n"
     ]
    }
   ],
   "source": [
    "Coffee1 = Coffee(iced=True, sugared=False, milk_type=\"almond\")\n",
    "Coffee1.set_price()\n",
    "Coffee1.get_price()\n",
    "print(Coffee1)"
   ]
  }
 ],
 "metadata": {
  "kernelspec": {
   "display_name": "base",
   "language": "python",
   "name": "python3"
  },
  "language_info": {
   "codemirror_mode": {
    "name": "ipython",
    "version": 3
   },
   "file_extension": ".py",
   "mimetype": "text/x-python",
   "name": "python",
   "nbconvert_exporter": "python",
   "pygments_lexer": "ipython3",
   "version": "3.9.17"
  }
 },
 "nbformat": 4,
 "nbformat_minor": 5
}
